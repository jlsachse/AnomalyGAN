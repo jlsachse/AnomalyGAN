{
 "cells": [
  {
   "cell_type": "code",
   "execution_count": 1,
   "metadata": {},
   "outputs": [],
   "source": [
    "import pandas as pd\n",
    "import numpy as np\n",
    "\n",
    "import lib.transformers as tf\n",
    "from sklearn.pipeline import Pipeline\n",
    "from sklearn.ensemble import RandomForestClassifier\n"
   ]
  },
  {
   "cell_type": "code",
   "execution_count": 2,
   "metadata": {},
   "outputs": [],
   "source": [
    "cwruData0 = pd.read_parquet('data/cwru0.parquet')\n",
    "cwruData1 = pd.read_parquet('data/cwru1.parquet')\n",
    "\n",
    "cwruData = pd.concat([cwruData0, cwruData1])"
   ]
  },
  {
   "cell_type": "code",
   "execution_count": 3,
   "metadata": {},
   "outputs": [
    {
     "data": {
      "text/plain": [
       "(100, 4, 4)"
      ]
     },
     "execution_count": 3,
     "metadata": {},
     "output_type": "execute_result"
    }
   ],
   "source": [
    "prep = \\\n",
    "Pipeline(steps=[('DataSelector', tf.DataSelector(columns = ['baseData', 'driveEndData'], condition = ['Normal Baseline'])),\n",
    "                ('ArrayFlattener', tf.ArrayFlattener()),\n",
    "                ('DatatypeFilter', tf.DataTypeFilter(data_type = np.ndarray)),\n",
    "                ('ArrayChunker', tf.ArrayChunker(2000)),\n",
    "                ('ArrayEqualizer', tf.ArrayEqualizer()),\n",
    "                ('ArrayFlattener2', tf.ArrayFlattener()),\n",
    "                ('RandomArraySampler', tf.RandomArraySampler(100, random_state = 0)),\n",
    "                ('FeatureExtractor', tf.FeatureExtractor(axis=1)),\n",
    "                ('ArrayReshaper', tf.ArrayReshaper((4, 4)))\n",
    "               ])\n",
    "\n",
    "prep.transform(cwruData)"
   ]
  }
 ],
 "metadata": {
  "kernelspec": {
   "display_name": "Python 3",
   "language": "python",
   "name": "python3"
  },
  "language_info": {
   "codemirror_mode": {
    "name": "ipython",
    "version": 3
   },
   "file_extension": ".py",
   "mimetype": "text/x-python",
   "name": "python",
   "nbconvert_exporter": "python",
   "pygments_lexer": "ipython3",
   "version": "3.7.9"
  }
 },
 "nbformat": 4,
 "nbformat_minor": 4
}
