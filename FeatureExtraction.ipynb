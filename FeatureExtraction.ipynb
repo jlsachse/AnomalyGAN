{
 "cells": [
  {
   "cell_type": "code",
   "execution_count": 1,
   "metadata": {},
   "outputs": [],
   "source": [
    "import pandas as pd\n",
    "import numpy as np\n",
    "\n",
    "import lib.transformers as tf\n",
    "from sklearn.pipeline import Pipeline\n",
    "from sklearn.ensemble import RandomForestClassifier\n"
   ]
  },
  {
   "cell_type": "code",
   "execution_count": 2,
   "metadata": {},
   "outputs": [],
   "source": [
    "cwruData0 = pd.read_parquet('data/cwru0.parquet')\n",
    "cwruData1 = pd.read_parquet('data/cwru1.parquet')\n",
    "\n",
    "cwruData = pd.concat([cwruData0, cwruData1])"
   ]
  },
  {
   "cell_type": "code",
   "execution_count": 3,
   "metadata": {},
   "outputs": [],
   "source": [
    "import torch\n",
    "import torch.nn as nn\n",
    "import torch.nn.parallel\n",
    "import torch.optim as optim\n",
    "import torch.utils.data\n",
    "import torchvision.datasets as dset\n",
    "import torchvision.transforms as transforms\n",
    "import torchvision.utils as vutils"
   ]
  },
  {
   "cell_type": "code",
   "execution_count": 4,
   "metadata": {},
   "outputs": [],
   "source": [
    "from skorch.callbacks import PassthroughScoring"
   ]
  },
  {
   "cell_type": "code",
   "execution_count": 5,
   "metadata": {},
   "outputs": [],
   "source": [
    "torch.manual_seed(0)\n",
    "device = torch.device(\"cuda:0\") if torch.cuda.is_available() else 'cpu'"
   ]
  },
  {
   "cell_type": "code",
   "execution_count": 6,
   "metadata": {},
   "outputs": [],
   "source": [
    "nz = 100  # size of the latent z vector\n",
    "ngf = 32  # units of generator\n",
    "ndf = 32  # units of discriminator\n",
    "nc = 1  # number of channels\n",
    "batch_size = 32\n",
    "lr = 0.0002\n",
    "beta1 = 0.5  # for adam\n",
    "max_epochs = 50\n",
    "ngpu = 1\n",
    "isize = 32  # 32 is easier than 28 to work with\n",
    "workers = 2  # for dataloader"
   ]
  },
  {
   "cell_type": "code",
   "execution_count": 7,
   "metadata": {},
   "outputs": [],
   "source": [
    "from lib.model import Ganomaly, GanomalyNet"
   ]
  },
  {
   "cell_type": "code",
   "execution_count": 8,
   "metadata": {},
   "outputs": [],
   "source": [
    "net = GanomalyNet(\n",
    "    Ganomaly,\n",
    "    module__isize = isize,\n",
    "    module__nz=nz,\n",
    "    module__ndf=ndf,\n",
    "    module__ngf=ngf,\n",
    "    module__nc=nc,\n",
    "    module__ngpu=ngpu,\n",
    "    \n",
    "    module__w_lat = 1,\n",
    "    \n",
    "    criterion=nn.BCELoss,\n",
    "\n",
    "    optimizer_gen=optim.Adam,\n",
    "    optimizer_gen__lr=0.0002,\n",
    "    optimizer_gen__betas=(beta1, 0.999),\n",
    "\n",
    "    optimizer_dis=optim.Adam,\n",
    "    optimizer_dis__lr=0.00002,\n",
    "    optimizer_dis__betas=(beta1, 0.999),\n",
    "\n",
    "    batch_size=batch_size,\n",
    "    max_epochs=max_epochs,\n",
    "\n",
    "    train_split=False,  # not implemented\n",
    "    iterator_train__shuffle=True,\n",
    "    iterator_train__num_workers=workers,\n",
    "    iterator_valid__num_workers=workers,\n",
    "\n",
    "    callbacks=[\n",
    "        PassthroughScoring('loss_dis', on_train=True),\n",
    "        PassthroughScoring('loss_gen', on_train=True),\n",
    "        PassthroughScoring('loss_gen_fra', on_train=True),\n",
    "        PassthroughScoring('loss_gen_app', on_train=True),\n",
    "        PassthroughScoring('loss_gen_lat', on_train=True),\n",
    "    ],\n",
    ")"
   ]
  },
  {
   "cell_type": "code",
   "execution_count": 9,
   "metadata": {},
   "outputs": [],
   "source": [
    "normal = tf.DataSelector(columns = ['fanEndData', 'driveEndData'], condition = ['Normal Baseline']).transform(cwruData)\n",
    "inner = tf.DataSelector(columns = ['fanEndData', 'driveEndData'], condition = ['Inner Race Fault']).transform(cwruData)\n",
    "ball = tf.DataSelector(columns = ['fanEndData', 'driveEndData'], condition = ['Ball Fault']).transform(cwruData)\n",
    "outer = tf.DataSelector(columns = ['fanEndData', 'driveEndData'], condition = ['Outer Race Fault']).transform(cwruData)\n"
   ]
  },
  {
   "cell_type": "code",
   "execution_count": 10,
   "metadata": {},
   "outputs": [
    {
     "name": "stdout",
     "output_type": "stream",
     "text": [
      "  epoch    loss_dis    loss_gen    loss_gen_app    loss_gen_fra    loss_gen_lat    train_loss     dur\n",
      "-------  ----------  ----------  --------------  --------------  --------------  ------------  ------\n",
      "      1      0.7979      1.2161          0.1152          0.7007          0.4003        2.0140  5.7316\n",
      "      2      0.7633      0.8584          0.1033          0.6144          0.1407        1.6218  5.5279\n",
      "      3      0.7274      0.7168          0.0911          0.5387          0.0870        1.4442  5.5332\n",
      "      4      0.6898      0.6164          0.0832          0.4718          0.0614        1.3062  5.4435\n",
      "      5      0.6527      0.5433          0.0778          0.4122          0.0532        1.1959  5.4211\n",
      "      6      0.6138      0.4753          0.0741          0.3591          0.0421        1.0892  5.3804\n",
      "      7      0.5757      0.4212          0.0711          0.3120          0.0381        0.9969  5.5128\n",
      "      8      0.5338      0.3748          0.0693          0.2698          0.0356        0.9085  5.6598\n",
      "      9      0.4913      0.3276          0.0672          0.2327          0.0277        0.8189  5.3352\n",
      "     10      0.4510      0.2956          0.0660          0.2005          0.0292        0.7466  5.2984\n",
      "     11      0.4136      0.2619          0.0648          0.1725          0.0246        0.6755  5.5158\n",
      "     12      0.3797      0.2358          0.0638          0.1487          0.0233        0.6156  5.3428\n",
      "     13      0.3466      0.2122          0.0630          0.1287          0.0205        0.5588  5.3797\n",
      "     14      0.3160      0.1939          0.0623          0.1115          0.0201        0.5099  5.6130\n",
      "     15      0.2886      0.1757          0.0616          0.0975          0.0166        0.4643  5.4032\n",
      "     16      0.2655      0.1632          0.0610          0.0856          0.0166        0.4287  5.2948\n",
      "     17      0.2442      0.1531          0.0606          0.0755          0.0170        0.3974  5.6912\n",
      "     18      0.2259      0.1425          0.0602          0.0670          0.0153        0.3683  5.3730\n",
      "     19      0.2087      0.1340          0.0598          0.0597          0.0145        0.3427  5.3540\n",
      "     20      0.1947      0.1281          0.0595          0.0536          0.0150        0.3228  5.7890\n",
      "     21      0.1810      0.1202          0.0591          0.0483          0.0128        0.3012  5.3497\n",
      "     22      0.1691      0.1152          0.0588          0.0437          0.0127        0.2843  5.2809\n",
      "     23      0.1586      0.1102          0.0585          0.0397          0.0120        0.2688  6.0388\n",
      "     24      0.1486      0.1080          0.0584          0.0363          0.0133        0.2565  5.7128\n",
      "     25      0.1394      0.1014          0.0580          0.0332          0.0101        0.2408  5.3213\n",
      "     26      0.1303      0.0984          0.0577          0.0305          0.0102        0.2288  5.6047\n",
      "     27      0.1246      0.0966          0.0575          0.0283          0.0108        0.2212  5.3519\n",
      "     28      0.1177      0.0946          0.0574          0.0261          0.0111        0.2123  5.3311\n",
      "     29      0.1114      0.0931          0.0573          0.0243          0.0115        0.2045  5.4513\n",
      "     30      0.1053      0.0897          0.0570          0.0226          0.0100        0.1950  5.2866\n",
      "     31      0.1000      0.0885          0.0569          0.0212          0.0105        0.1886  5.3663\n",
      "     32      0.0954      0.0864          0.0567          0.0198          0.0100        0.1818  5.4134\n",
      "     33      0.0907      0.0847          0.0565          0.0185          0.0096        0.1754  5.2370\n",
      "     34      0.0867      0.0824          0.0564          0.0175          0.0086        0.1692  5.2747\n",
      "     35      0.0823      0.0820          0.0562          0.0164          0.0093        0.1643  5.6191\n",
      "     36      0.0784      0.0804          0.0561          0.0155          0.0088        0.1588  5.3684\n",
      "     37      0.0751      0.0793          0.0560          0.0147          0.0086        0.1544  5.3238\n",
      "     38      0.0718      0.0771          0.0558          0.0139          0.0074        0.1489  5.5188\n",
      "     39      0.0686      0.0768          0.0556          0.0132          0.0080        0.1454  5.4066\n",
      "     40      0.0660      0.0762          0.0555          0.0126          0.0081        0.1422  5.4191\n",
      "     41      0.0634      0.0746          0.0553          0.0120          0.0073        0.1380  5.4062\n",
      "     42      0.0609      0.0745          0.0552          0.0114          0.0078        0.1353  5.3216\n",
      "     43      0.0586      0.0725          0.0550          0.0109          0.0066        0.1311  5.3948\n",
      "     44      0.0561      0.0728          0.0549          0.0104          0.0074        0.1289  5.3512\n",
      "     45      0.0543      0.0719          0.0548          0.0100          0.0071        0.1262  5.3667\n",
      "     46      0.0525      0.0713          0.0547          0.0096          0.0070        0.1238  5.2526\n",
      "     47      0.0506      0.0711          0.0546          0.0092          0.0073        0.1216  5.4850\n",
      "     48      0.0489      0.0693          0.0544          0.0088          0.0061        0.1182  5.3587\n",
      "     49      0.0473      0.0688          0.0543          0.0085          0.0061        0.1162  5.4255\n",
      "     50      0.0455      0.0690          0.0541          0.0082          0.0067        0.1146  5.3926\n"
     ]
    }
   ],
   "source": [
    "params = {\n",
    "    'module__w_fra': [10, 12],\n",
    "}\n",
    "\n",
    "from sklearn.model_selection import GridSearchCV\n",
    "\n",
    "gs = GridSearchCV(net, params, refit=False, cv=3)\n",
    "from sklearn.model_selection import GridSearchCV\n",
    "\n",
    "prep = \\\n",
    "Pipeline(steps=[\n",
    "                ('ArrayFlattener', tf.ArrayFlattener()),\n",
    "                ('DatatypeFilter', tf.DataTypeFilter(data_type = np.ndarray)),\n",
    "                ('ArrayChunker', tf.ArrayChunker(1024)),\n",
    "                #('ArrayEqualizer', tf.ArrayEqualizer()),\n",
    "                ('ArrayFlattener2', tf.ArrayFlattener()),\n",
    "                ('RandomArraySampler', tf.RandomArraySampler(400, random_state = 0)),\n",
    "                #('FeatureExtractor', tf.FeatureExtractor(axis=1)),\n",
    "                ('ArrayReshaper', tf.ArrayReshaper((1, 32, 32))),\n",
    "                ('GANomaly', net)\n",
    "               ])\n",
    "\n",
    "test = prep.fit(normal)"
   ]
  },
  {
   "cell_type": "code",
   "execution_count": 11,
   "metadata": {},
   "outputs": [
    {
     "name": "stdout",
     "output_type": "stream",
     "text": [
      "normal mean: 0.0054088323\n",
      "inner mean: 0.8073717\n",
      "ball mean: 0.17156105\n",
      "outer mean: 1.1220227\n"
     ]
    }
   ],
   "source": [
    "print(\"normal mean:\", prep.predict(normal).mean())\n",
    "print(\"inner mean:\", prep.predict(inner).mean())\n",
    "print(\"ball mean:\", prep.predict(ball).mean())\n",
    "print(\"outer mean:\", prep.predict(outer).mean())"
   ]
  }
 ],
 "metadata": {
  "kernelspec": {
   "display_name": "Python 3",
   "language": "python",
   "name": "python3"
  },
  "language_info": {
   "codemirror_mode": {
    "name": "ipython",
    "version": 3
   },
   "file_extension": ".py",
   "mimetype": "text/x-python",
   "name": "python",
   "nbconvert_exporter": "python",
   "pygments_lexer": "ipython3",
   "version": "3.7.9"
  }
 },
 "nbformat": 4,
 "nbformat_minor": 4
}
