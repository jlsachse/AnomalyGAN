{
 "cells": [
  {
   "cell_type": "code",
   "execution_count": 7,
   "metadata": {},
   "outputs": [],
   "source": [
    "import pandas as pd\n",
    "from sklearn.pipeline import Pipeline\n",
    "import lib.transformers as tf"
   ]
  },
  {
   "cell_type": "code",
   "execution_count": 8,
   "metadata": {},
   "outputs": [],
   "source": [
    "cwruData0 = pd.read_parquet('data/cwru0.parquet')\n",
    "cwruData1 = pd.read_parquet('data/cwru1.parquet')\n",
    "\n",
    "cwruData = pd.concat([cwruData0, cwruData1])"
   ]
  },
  {
   "cell_type": "code",
   "execution_count": 9,
   "metadata": {},
   "outputs": [],
   "source": [
    "image_size = 56\n",
    "\n",
    "selection_pipeline = \\\n",
    "Pipeline(steps=[\n",
    "                ('DataSelector', tf.DataSelector(columns = ['fanEndData', 'driveEndData'], column_values = {'condition': ['Normal Baseline'], 'sampleRate': [12000]})),\n",
    "                ('ArrayFlattener', tf.ArrayFlattener()),\n",
    "                ('ArrayEqualizer', tf.ArrayEqualizer()),\n",
    "                ('ArrayChunker', tf.ArrayChunker(image_size**2)),\n",
    "                ('ArrayFlattener2', tf.ArrayFlattener()),\n",
    "                ('ArrayReshaper', tf.ArrayReshaper((1, image_size, image_size)))\n",
    "               ])\n",
    "\n",
    "chunked_normal_data = selection_pipeline.transform(cwruData)"
   ]
  },
  {
   "cell_type": "code",
   "execution_count": 11,
   "metadata": {},
   "outputs": [
    {
     "data": {
      "text/plain": [
       "array([[[ 0.14566727,  0.09779637,  0.05485636, ..., -0.07458   ,\n",
       "          0.02712   ,  0.12882   ],\n",
       "        [ 0.18367636,  0.16169272,  0.09492   , ..., -0.19353819,\n",
       "         -0.19682546, -0.16272   ],\n",
       "        [-0.06143091,  0.03636545,  0.08731818, ...,  0.06533454,\n",
       "          0.0113    , -0.04150182],\n",
       "        ...,\n",
       "        [-0.08156545, -0.12286182, -0.14053091, ...,  0.03698182,\n",
       "          0.08916727,  0.12080728],\n",
       "        [ 0.1269709 ,  0.10868546,  0.05095273, ...,  0.05773273,\n",
       "          0.04437818,  0.02958545],\n",
       "        [ 0.05608909,  0.05629455,  0.02732546, ...,  0.04746   ,\n",
       "          0.00020545, -0.06245818]]], dtype=float32)"
      ]
     },
     "execution_count": 11,
     "metadata": {},
     "output_type": "execute_result"
    }
   ],
   "source": [
    "chunked_normal_data[0]"
   ]
  },
  {
   "cell_type": "code",
   "execution_count": null,
   "metadata": {},
   "outputs": [],
   "source": [
    "import scipy.signal as signal\n",
    "from sklearn.preprocessing import normalize\n",
    "from PIL import Image\n",
    "\n",
    "x = selection_pipeline.transform(cwruData)[0]\n",
    "x = np.fft.fft(x)\n",
    "x = np.abs(x) / len(x)\n",
    "x = x[range(int(x.shape[0] / 2))]\n",
    "x = x.reshape(-1,1)\n",
    "print(x.shape)\n",
    "\n",
    "\n",
    "def STFT(fl):\n",
    "    f, t, Zxx = signal.stft(fl, nperseg=32)\n",
    "    img = normalize(np.abs(Zxx) / len(Zxx))\n",
    "    return img\n",
    "\n",
    "stft_inp = np.array([np.array(Image.fromarray(STFT(array)).resize((32, 32))).reshape(1 , 32, 32) for array in selection_pipeline.transform(cwruData)], dtype = np.float32)"
   ]
  }
 ],
 "metadata": {
  "kernelspec": {
   "display_name": "Python 3",
   "language": "python",
   "name": "python3"
  },
  "language_info": {
   "codemirror_mode": {
    "name": "ipython",
    "version": 3
   },
   "file_extension": ".py",
   "mimetype": "text/x-python",
   "name": "python",
   "nbconvert_exporter": "python",
   "pygments_lexer": "ipython3",
   "version": "3.7.4"
  }
 },
 "nbformat": 4,
 "nbformat_minor": 4
}
