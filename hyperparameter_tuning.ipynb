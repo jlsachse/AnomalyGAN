{
 "cells": [
  {
   "cell_type": "markdown",
   "metadata": {},
   "source": [
    "# CWRU Experiments\n",
    "## Imports"
   ]
  },
  {
   "cell_type": "code",
   "execution_count": 1,
   "metadata": {},
   "outputs": [],
   "source": [
    "import pandas as pd\n",
    "import numpy as np\n",
    "\n",
    "import lib.transformers as tfs\n",
    "from sklearn.pipeline import Pipeline\n",
    "\n",
    "from lib.models import Ganomaly1d, Ganomaly2d, GanomalyFE, GanomalyNet\n",
    "from lib.visualization import GANomalyBoard, rename_tensorboard_key\n",
    "\n",
    "from skorch.callbacks import PassthroughScoring, ProgressBar\n",
    "import torch\n",
    "\n",
    "from torch.utils.tensorboard import SummaryWriter\n",
    "from sklearn.model_selection import GridSearchCV\n",
    "\n",
    "from sklearn.model_selection import train_test_split\n",
    "\n",
    "from keras.datasets import mnist\n",
    "import tensorflow\n",
    "\n",
    "from sklearn.preprocessing import StandardScaler, MinMaxScaler\n",
    "\n",
    "from lib.others import create_dataset\n",
    "\n",
    "from lib.others import build_model\n",
    "from lib.visualization import lineplot_comparison\n",
    "\n",
    "import seaborn as sns\n",
    "import matplotlib.pyplot as plt"
   ]
  },
  {
   "cell_type": "code",
   "execution_count": 2,
   "metadata": {},
   "outputs": [],
   "source": [
    "cwruData0 = pd.read_parquet('data/cwru0.parquet')\n",
    "cwruData1 = pd.read_parquet('data/cwru1.parquet')\n",
    "\n",
    "cwruData = pd.concat([cwruData0, cwruData1])"
   ]
  },
  {
   "cell_type": "markdown",
   "metadata": {},
   "source": [
    "## Settings"
   ]
  },
  {
   "cell_type": "code",
   "execution_count": 3,
   "metadata": {},
   "outputs": [],
   "source": [
    "# torch.manual_seed(0)\n",
    "# torch.cuda.manual_seed(0)\n",
    "# np.random.seed(0)"
   ]
  },
  {
   "cell_type": "markdown",
   "metadata": {},
   "source": [
    "## Creating Datasets"
   ]
  },
  {
   "cell_type": "code",
   "execution_count": 4,
   "metadata": {},
   "outputs": [],
   "source": [
    "normal_features, normal_labels = create_dataset(cwruData, feature_columns = ['fanEndData', 'driveEndData'], label_columns = ['condition', 'faultDiameter', 'motorLoad', 'relativeFaultPosition', 'faultyBearingPosition'], condition = ['Normal Baseline'], sampleRate = [12000])\n",
    "normal_features_train, normal_features_test, normal_labels_train, normal_labels_test = train_test_split(normal_features, normal_labels, train_size = 400, test_size= 451)\n",
    "\n",
    "ball_features, ball_labels = create_dataset(cwruData, feature_columns = ['fanEndData'], label_columns = ['condition', 'faultDiameter', 'motorLoad', 'relativeFaultPosition', 'faultyBearingPosition'], condition = ['Ball Fault'], sampleRate = [12000])\n",
    "inner_features, inner_labels = create_dataset(cwruData, feature_columns = ['fanEndData'], label_columns = ['condition', 'faultDiameter', 'motorLoad', 'relativeFaultPosition', 'faultyBearingPosition'], condition = ['Inner Race Fault'], sampleRate = [12000])\n",
    "outer_features, outer_labels = create_dataset(cwruData, feature_columns = ['fanEndData'], label_columns = ['condition', 'faultDiameter', 'motorLoad', 'relativeFaultPosition', 'faultyBearingPosition'], condition = ['Outer Race Fault'], sampleRate = [12000])\n",
    "\n",
    "\n",
    "labels_test = pd.concat([ball_labels, inner_labels, outer_labels, normal_labels_test])\n",
    "features_test = pd.concat([ball_features, inner_features, outer_features, normal_features_test])\n",
    "\n",
    "normal_features_test = np.array(normal_features_test.to_list())\n",
    "normal_features_train = np.array(normal_features_train.to_list())"
   ]
  },
  {
   "cell_type": "markdown",
   "metadata": {},
   "source": [
    "# GridSearchCV"
   ]
  },
  {
   "cell_type": "markdown",
   "metadata": {},
   "source": [
    "## Building and training the different Models"
   ]
  },
  {
   "cell_type": "code",
   "execution_count": 7,
   "metadata": {},
   "outputs": [],
   "source": [
    "# model settings\n",
    "n_z = 600\n",
    "n_channels = 1\n",
    "n_feature_maps = 64\n",
    "\n",
    "fraud_weight = 1\n",
    "appearant_weight = 1\n",
    "latent_weight = 1\n",
    "lambda_weight = 0.5\n",
    "\n",
    "# training settings\n",
    "device = torch.device(\"cuda:0\") if torch.cuda.is_available() else 'cpu'\n",
    "n_gpus = 0\n",
    "workers = 2\n",
    "batch_size = 16\n",
    "max_epochs = 3\n",
    "lr = 0.0001\n",
    "beta1 = 0.5\n",
    "beta2 = 0.999\n",
    "\n",
    "# extra callbacks\n",
    "callbacks = []\n",
    "\n",
    "# run number\n",
    "run = 1000"
   ]
  },
  {
   "cell_type": "markdown",
   "metadata": {},
   "source": [
    "### Stacked Time Series"
   ]
  },
  {
   "cell_type": "code",
   "execution_count": 11,
   "metadata": {},
   "outputs": [],
   "source": [
    "gan_stacked_time_series =\\\n",
    "build_model(\n",
    "    model = Ganomaly2d,\n",
    "    \n",
    "    # model parameters\n",
    "    input_size = 56, \n",
    "    n_z = n_z,\n",
    "    n_channels = n_channels,\n",
    "    n_fm_discriminator = n_feature_maps,  \n",
    "    n_fm_generator = n_feature_maps,\n",
    "    fraud_weight = fraud_weight,\n",
    "    appearant_weight = appearant_weight, \n",
    "    latent_weight = latent_weight,\n",
    "    lambda_weight = lambda_weight,\n",
    "    \n",
    "    # training parameters\n",
    "    device = device,\n",
    "    n_gpus = n_gpus,\n",
    "    workers = workers,\n",
    "    batch_size = batch_size,\n",
    "    max_epochs = max_epochs, \n",
    "    lr = 0.0001,\n",
    "    beta1 = 0.5,\n",
    "    beta2 = 0.999, \n",
    "    \n",
    "    # extra callbacks\n",
    "    callbacks = callbacks\n",
    ")"
   ]
  },
  {
   "cell_type": "code",
   "execution_count": 12,
   "metadata": {},
   "outputs": [],
   "source": [
    "pipeline_stacked_time_series = \\\n",
    "Pipeline(steps=[\n",
    "                ('reshaper', tfs.ArrayReshaper((1, 56, 56))),\n",
    "                ('scaler', tfs.ArrayMinMaxScaler()),\n",
    "                ('retyper', tfs.ArrayRetyper(np.float32)),\n",
    "                ('model', gan_stacked_time_series)\n",
    "               ])"
   ]
  },
  {
   "cell_type": "code",
   "execution_count": 5,
   "metadata": {},
   "outputs": [],
   "source": [
    "search_parameters = {\n",
    "    'Model__module__w_app': list(range(0, 31, 30)),\n",
    "}"
   ]
  },
  {
   "cell_type": "code",
   "execution_count": 6,
   "metadata": {},
   "outputs": [],
   "source": [
    "ganomaly_gs = GridSearchCV(pipeline_stacked_time_series, search_parameters, refit=False, cv=4)"
   ]
  },
  {
   "cell_type": "code",
   "execution_count": null,
   "metadata": {},
   "outputs": [
    {
     "name": "stdout",
     "output_type": "stream",
     "text": [
      "  epoch    appearant_loss    discriminator_loss    fraud_loss    generator_loss    latent_loss    train_loss      dur\n",
      "-------  ----------------  --------------------  ------------  ----------------  -------------  ------------  -------\n",
      "      1            \u001b[36m0.4772\u001b[0m                \u001b[32m0.4103\u001b[0m        \u001b[35m0.7392\u001b[0m            \u001b[31m1.5302\u001b[0m         \u001b[94m0.3138\u001b[0m        \u001b[36m1.9405\u001b[0m  12.3197\n"
     ]
    }
   ],
   "source": [
    "ganomaly_gs.fit(normal_features_train)"
   ]
  }
 ],
 "metadata": {
  "kernelspec": {
   "display_name": "Python 3",
   "language": "python",
   "name": "python3"
  },
  "language_info": {
   "codemirror_mode": {
    "name": "ipython",
    "version": 3
   },
   "file_extension": ".py",
   "mimetype": "text/x-python",
   "name": "python",
   "nbconvert_exporter": "python",
   "pygments_lexer": "ipython3",
   "version": "3.8.5"
  }
 },
 "nbformat": 4,
 "nbformat_minor": 4
}
